{
  "nbformat": 4,
  "nbformat_minor": 0,
  "metadata": {
    "colab": {
      "provenance": [],
      "authorship_tag": "ABX9TyM7br9Hf1fSM1ObmuJYYV3a",
      "include_colab_link": true
    },
    "kernelspec": {
      "name": "python3",
      "display_name": "Python 3"
    },
    "language_info": {
      "name": "python"
    }
  },
  "cells": [
    {
      "cell_type": "markdown",
      "metadata": {
        "id": "view-in-github",
        "colab_type": "text"
      },
      "source": [
        "<a href=\"https://github.com/jerocellev1/boilerplate-mean-variance-standard-deviation-calculator/blob/main/mean_var_std.ipynb.ipynb" target=\"_parent\"><img src=\"https://colab.research.google.com/assets/colab-badge.svg\" alt=\"Open In Colab\"/></a>"
      ]
    },
    {
      "cell_type": "code",
      "execution_count": null,
      "metadata": {
        "id": "N0FFAjDcSY2F"
      },
      "outputs": [],
      "source": [
        "import numpy as np\n",
        "import pandas as pd"
      ]
    },
    {
      "cell_type": "code",
      "source": [
        "# Step 1: Generate a 9-digit list named first_list\n",
        "first_list = [9,  1,  7,  8,  4,  6,  9, 10, 5]"
      ],
      "metadata": {
        "id": "t6hIn0drSif8"
      },
      "execution_count": null,
      "outputs": []
    },
    {
      "cell_type": "code",
      "source": [
        "# Step 2: Convert list to a 3x3 numPy array named np_list\n",
        "np_list = np.array(first_list).reshape(3,3)"
      ],
      "metadata": {
        "id": "eGRq2Em2Spyj"
      },
      "execution_count": null,
      "outputs": []
    },
    {
      "cell_type": "code",
      "source": [
        "# Step 3: Return a dictionary containing the mean, variance, std, max, min and sum along both axes and flattened matrix named calculate.\n",
        "dict = {\n",
        "    'mean': [np.mean(np_list, axis=0).tolist(), np.mean(np_list, axis=1).tolist(), np.mean(np_list.flatten()).tolist()],\n",
        "    'variance': [np.var(np_list, axis=0).tolist(), np.var(np_list, axis=1).tolist(), np.var(np_list.flatten()).tolist()],\n",
        "    'standard': [np.std(np_list, axis=0).tolist(), np.std(np_list, axis=1).tolist(), np.std(np_list.flatten()).tolist()],\n",
        "    'max': [np.max(np_list, axis=0).tolist(), np.max(np_list, axis=1).tolist(), np.max(np_list.flatten()).tolist()],\n",
        "    'min': [np.min(np_list, axis=0).tolist(), np.min(np_list, axis=1).tolist(), np.min(np_list.flatten()).tolist()],\n",
        "    'sum': [np.sum(np_list, axis=0).tolist(), np.sum(np_list, axis=1).tolist(), np.sum(np_list.flatten()).tolist()]\n",
        "\n",
        "    }\n",
        "\n",
        "dict"
      ],
      "metadata": {
        "id": "IJriQ1WcSr9i"
      },
      "execution_count": null,
      "outputs": []
    },
    {
      "cell_type": "code",
      "source": [
        "# Step 4: Add ValueError exception message if list contains less than 9 elements.\n",
        "size = len(first_list) # Use the numpy array for size calculation\n",
        "\n",
        "if size != 9:\n",
        "  raise ValueError('List must contain nine numbers')"
      ],
      "metadata": {
        "id": "olwuw6CPSt0E"
      },
      "execution_count": null,
      "outputs": []
    },
    {
      "cell_type": "code",
      "source": [
        "# Step 5: Combined all the steps.\n",
        "import numpy as np\n",
        "def calculate():\n",
        "\n",
        "  first_list = [9,  1,  7,  8,  4,  6,  9, 10, 5]\n",
        "  np_list = np.array(first_list).reshape(3,3) # Convert list to a 3x3 numPy array named np_list\n",
        "  my_dict = {\n",
        "    'mean': [np.mean(np_list, axis=0).tolist(), np.mean(np_list, axis=1).tolist(), np.mean(np_list.flatten()).tolist()],\n",
        "    'variance': [np.var(np_list, axis=0).tolist(), np.var(np_list, axis=1).tolist(), np.var(np_list.flatten()).tolist()],\n",
        "    'standard': [np.std(np_list, axis=0).tolist(), np.std(np_list, axis=1).tolist(), np.std(np_list.flatten()).tolist()],\n",
        "    'max': [np.max(np_list, axis=0).tolist(), np.max(np_list, axis=1).tolist(), np.max(np_list.flatten()).tolist()],\n",
        "    'min': [np.min(np_list, axis=0).tolist(), np.min(np_list, axis=1).tolist(), np.min(np_list.flatten()).tolist()],\n",
        "    'sum': [np.sum(np_list, axis=0).tolist(), np.sum(np_list, axis=1).tolist(), np.sum(np_list.flatten()).tolist()]\n",
        "    }\n",
        "  size = len(first_list) # Use the numpy array for size calculation\n",
        "\n",
        "  if size != 9:\n",
        "    raise ValueError('List must contain nine numbers')\n",
        "  else:\n",
        "    return my_dict\n",
        "\n",
        "calculate()"
      ],
      "metadata": {
        "id": "Kn5cwzavSvXz"
      },
      "execution_count": null,
      "outputs": []
    }
  ]
}
